{
 "cells": [
  {
   "cell_type": "code",
   "execution_count": 1,
   "metadata": {},
   "outputs": [],
   "source": [
    "# import all necessary package\n",
    "\n",
    "import os\n",
    "import random\n",
    "import skimage.data\n",
    "import skimage.transform\n",
    "import matplotlib\n",
    "import matplotlib.pyplot as plt\n",
    "import numpy as np\n",
    "import tensorflow as tf\n",
    "from sklearn.metrics import confusion_matrix\n",
    "import time\n",
    "from datetime import timedelta\n",
    "import math\n",
    "import csv\n",
    "\n",
    "%matplotlib inline"
   ]
  },
  {
   "cell_type": "code",
   "execution_count": 2,
   "metadata": {},
   "outputs": [
    {
     "data": {
      "text/plain": [
       "'1.4.1'"
      ]
     },
     "execution_count": 2,
     "metadata": {},
     "output_type": "execute_result"
    }
   ],
   "source": [
    "tf.__version__"
   ]
  },
  {
   "cell_type": "code",
   "execution_count": 3,
   "metadata": {},
   "outputs": [],
   "source": [
    "# create train path \n",
    "train_data_dir = os.path.join(\"./GTSRB/Final_Training/Images\")\n",
    "\n",
    "# create test path \n",
    "test_data_dir = os.path.join(\"./GTSRB/Final_Test/Images\")"
   ]
  },
  {
   "cell_type": "code",
   "execution_count": 6,
   "metadata": {},
   "outputs": [],
   "source": [
    "\n",
    "def map_file_to_classId(filename = 'GT-final_test.csv'):\n",
    "    test_labels_ids={}\n",
    "    with open(filename) as fin:\n",
    "        reader=csv.reader(fin, skipinitialspace=True,delimiter=';')\n",
    "        next(reader,None)\n",
    "\n",
    "        for row in reader:\n",
    "              test_labels_ids[ test_data_dir + '/' + row[0]]=row[7] \n",
    "                \n",
    "    return test_labels_ids\n",
    "                \n",
    "\n",
    "def get_lebel_id(file,test_labels_ids):\n",
    "    return int(test_labels_ids[file])\n",
    "\n",
    "    "
   ]
  },
  {
   "cell_type": "code",
   "execution_count": 7,
   "metadata": {},
   "outputs": [],
   "source": [
    "def load_data(data_dir):\n",
    "    \n",
    "    ''' load all training and test data given path'''\n",
    "    \n",
    "    directories = [d for d in os.listdir(data_dir) if os.path.isdir(os.path.join(data_dir, d))]\n",
    "    labels = []\n",
    "    images = []\n",
    "    if(not directories):\n",
    "        label_dir = os.path.join(data_dir)\n",
    "        file_names = [os.path.join(label_dir, f) \n",
    "                          for f in os.listdir(label_dir) if f.endswith(\".ppm\")]\n",
    "        \n",
    "        test_labels_ids = map_file_to_classId()\n",
    "        \n",
    "        for f in file_names:\n",
    "            images.append(skimage.data.imread(f))\n",
    "            labels.append(get_lebel_id(f,test_labels_ids))\n",
    "    else:\n",
    "\n",
    "        for d in directories:\n",
    "            label_dir = os.path.join(data_dir, d)\n",
    "            file_names = [os.path.join(label_dir, f) \n",
    "                          for f in os.listdir(label_dir) if f.endswith(\".ppm\")]\n",
    "\n",
    "            for f in file_names:\n",
    "                images.append(skimage.data.imread(f))\n",
    "                labels.append(int(d))\n",
    "                 \n",
    "    return images, labels\n",
    "\n",
    "\n",
    "\n",
    "train_images, train_labels = load_data(train_data_dir)\n",
    "test_images,test_labels = load_data(test_data_dir)"
   ]
  },
  {
   "cell_type": "code",
   "execution_count": 8,
   "metadata": {},
   "outputs": [],
   "source": [
    "#print (\"Number of labels(classes): \" , len(set(labels)))\n",
    "#print (\"Number of images in dataset: \", len(images))"
   ]
  },
  {
   "cell_type": "code",
   "execution_count": 9,
   "metadata": {},
   "outputs": [],
   "source": [
    "def display_images_and_labels(images, labels):\n",
    "    \n",
    "    ''' plot first image of all labels'''\n",
    "    \n",
    "    unique_labels = set(labels)\n",
    "    plt.figure(figsize=(15, 15))\n",
    "    i = 1\n",
    "    for label in unique_labels:\n",
    "\n",
    "        image = images[labels.index(label)]\n",
    "        plt.subplot(7, 8, i)  #7 rows , 8 columns\n",
    "        plt.axis('off')\n",
    "        plt.title(\"Label {0} ({1})\".format(label, labels.count(label)))\n",
    "        i += 1\n",
    "        _ = plt.imshow(image)\n",
    "    plt.show()\n",
    "\n",
    "# plot first image\n",
    "#display_images_and_labels(train_images, train_labels)"
   ]
  },
  {
   "cell_type": "code",
   "execution_count": 10,
   "metadata": {},
   "outputs": [],
   "source": [
    "def display_label_images(images, label):\n",
    "    \n",
    "    ''' plot first 50 images of given label(class) '''\n",
    "    \n",
    "    limit = 50  # 50 images\n",
    "    plt.figure(figsize=(15, 5))\n",
    "    i = 1\n",
    "\n",
    "    start = labels.index(label)\n",
    "    end = start + labels.count(label)\n",
    "    for image in images[start:end][:limit]:\n",
    "        plt.subplot(5, 10, i)  # 5 rows, 10 per row\n",
    "        plt.axis('off')\n",
    "        i += 1\n",
    "        plt.imshow(image)\n",
    "    plt.show()\n",
    "\n",
    "# plot label image\n",
    "#display_label_images(train_images, 26)"
   ]
  },
  {
   "cell_type": "code",
   "execution_count": 11,
   "metadata": {},
   "outputs": [],
   "source": [
    "def print_image_shape(images,number_of_images=20):\n",
    "    \n",
    "    ''' print 0 to number_of_images   '''\n",
    "    \n",
    "    for image in images[:number_of_images]:\n",
    "        print(\"shape: {0}, min: {1}, max: {2}\"\n",
    "                .format(image.shape, image.min(), image.max()))\n",
    "\n",
    "\n",
    "# print images shape \n",
    "#print_image_shape(train_images,30)"
   ]
  },
  {
   "cell_type": "code",
   "execution_count": 12,
   "metadata": {},
   "outputs": [],
   "source": [
    "def get_min_image(images):\n",
    "  \n",
    "    ''' returns a tupel of minimum image'''\n",
    "    \n",
    "    return min(s.shape for s in images)\n",
    "\n",
    "def get_max_image(images):\n",
    "  \n",
    "    ''' returns a tupel of maximum image'''\n",
    "    \n",
    "    return max(s.shape for s in images)\n",
    "\n",
    "#print(' min image -> ',get_min_image(train_images))\n",
    "#print(' max image -> ',get_max_image(train_images))"
   ]
  },
  {
   "cell_type": "code",
   "execution_count": 13,
   "metadata": {},
   "outputs": [],
   "source": [
    "# image size\n",
    "img_size = 28\n",
    "\n",
    "# rgb.\n",
    "num_channels = 3\n",
    "\n",
    "img_size_flat = img_size * img_size*num_channels\n",
    "\n",
    "img_shape = (img_size, img_size,num_channels)\n",
    "\n",
    "num_classes = 43"
   ]
  },
  {
   "cell_type": "code",
   "execution_count": 14,
   "metadata": {},
   "outputs": [
    {
     "name": "stderr",
     "output_type": "stream",
     "text": [
      "/usr/local/lib/python3.4/dist-packages/skimage/transform/_warps.py:84: UserWarning: The default mode, 'constant', will be changed to 'reflect' in skimage 0.15.\n",
      "  warn(\"The default mode, 'constant', will be changed to 'reflect' in \"\n"
     ]
    }
   ],
   "source": [
    "def resize_images(images,image_size =(35,35,3)):\n",
    "    \n",
    "    ''' resize all images given image size\n",
    "        default value -> (35,35)\n",
    "        you can change also rgb value '''\n",
    "    \n",
    "    return [skimage.transform.\n",
    "            resize(image, image_size)\n",
    "            for image in images]\n",
    "\n",
    "#resize all images\n",
    "\n",
    "train_images = resize_images(train_images,img_shape)\n",
    "test_images =  resize_images(test_images,img_shape)"
   ]
  },
  {
   "cell_type": "code",
   "execution_count": 15,
   "metadata": {},
   "outputs": [],
   "source": [
    "#convert all images to numpy array\n",
    "train_images = np.array(train_images)\n",
    "train_labels = np.array(train_labels)\n",
    "test_images = np.array(test_images)\n",
    "test_labels = np.array(test_labels)"
   ]
  },
  {
   "cell_type": "code",
   "execution_count": 16,
   "metadata": {},
   "outputs": [],
   "source": [
    "def flatten_images(images,img_size_flat):\n",
    "    ''' reshape all images given imgage size'''\n",
    "    return images.flatten().reshape(len(images),img_size_flat)"
   ]
  },
  {
   "cell_type": "code",
   "execution_count": 17,
   "metadata": {},
   "outputs": [],
   "source": [
    "def one_hot_labels(labels):\n",
    "    ''' one hot Encoding '''\n",
    "    targets = labels.reshape(-1)\n",
    "    one_hot_labels = np.eye(num_classes)[targets]\n",
    "    return one_hot_labels"
   ]
  },
  {
   "cell_type": "code",
   "execution_count": 18,
   "metadata": {},
   "outputs": [],
   "source": [
    "\n",
    "train_images = flatten_images(train_images,img_size_flat)\n",
    "test_images =  flatten_images(test_images,img_size_flat)"
   ]
  },
  {
   "cell_type": "code",
   "execution_count": 19,
   "metadata": {},
   "outputs": [],
   "source": [
    "train_labels = one_hot_labels(train_labels)\n",
    "test_labels = one_hot_labels(test_labels)"
   ]
  },
  {
   "cell_type": "code",
   "execution_count": 20,
   "metadata": {},
   "outputs": [
    {
     "name": "stdout",
     "output_type": "stream",
     "text": [
      "(39209, 2352) (12630, 2352)\n",
      "(39209, 43) (12630, 43)\n"
     ]
    }
   ],
   "source": [
    "#print all train test images and labels\n",
    "print(train_images.shape,test_images.shape)\n",
    "print(train_labels.shape,test_labels.shape)"
   ]
  },
  {
   "cell_type": "code",
   "execution_count": null,
   "metadata": {},
   "outputs": [],
   "source": []
  }
 ],
 "metadata": {
  "kernelspec": {
   "display_name": "Python 3",
   "language": "python",
   "name": "python3"
  },
  "language_info": {
   "codemirror_mode": {
    "name": "ipython",
    "version": 3
   },
   "file_extension": ".py",
   "mimetype": "text/x-python",
   "name": "python",
   "nbconvert_exporter": "python",
   "pygments_lexer": "ipython3",
   "version": "3.4.2"
  }
 },
 "nbformat": 4,
 "nbformat_minor": 2
}
